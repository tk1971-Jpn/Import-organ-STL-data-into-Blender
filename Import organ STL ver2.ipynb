{
 "cells": [
  {
   "cell_type": "code",
   "execution_count": null,
   "id": "ae312048-3ce5-430e-884d-1a1c18af15cb",
   "metadata": {},
   "outputs": [],
   "source": [
    "import bpy\n",
    "import os\n",
    "\n",
    "# ディレクトリパスと初期オフセット\n",
    "folder_path = '/Users/kimuratakashi/Desktop/manifest-1737770826064/STL'\n",
    "x_move = 0\n",
    "y_move = 7.6\n",
    "z_move = 0\n",
    "\n",
    "# STLファイルのパスリストを取得\n",
    "file_paths = [\n",
    "    os.path.join(folder_path, filename)\n",
    "    for filename in os.listdir(folder_path)\n",
    "    if os.path.isfile(os.path.join(folder_path, filename)) and filename.endswith('.stl')\n",
    "]\n",
    "\n",
    "# ファイルパスの共通プレフィックスを取得\n",
    "common_path = os.path.commonprefix(file_paths)\n",
    "\n",
    "# STLファイルを順にインポート\n",
    "for file_path in file_paths:\n",
    "    # ファイル名とオブジェクト名を取得\n",
    "    name = os.path.basename(file_path)\n",
    "    obj_name = os.path.splitext(name)[0]\n",
    "\n",
    "    # STLファイルをインポート\n",
    "    bpy.ops.import_mesh.stl(filepath=file_path)\n",
    "\n",
    "    # インポートされたオブジェクトを取得\n",
    "    obj = bpy.context.selected_objects[0]\n",
    "    obj.name = obj_name\n",
    "\n",
    "    # サイズ変更\n",
    "    size = 0.02\n",
    "    obj.scale = (size, size, size)\n",
    "\n",
    "    # 回転と位置調整\n",
    "    obj.rotation_euler[0] = -1.5708  # X軸回転\n",
    "    obj.location = (x_move, y_move, z_move)\n",
    "\n",
    "# rename object\n",
    "    obj.name = obj.name[len(common_path)-len(folder_path)-1:]"
   ]
  }
 ],
 "metadata": {
  "kernelspec": {
   "display_name": "Python 3 (ipykernel)",
   "language": "python",
   "name": "python3"
  },
  "language_info": {
   "codemirror_mode": {
    "name": "ipython",
    "version": 3
   },
   "file_extension": ".py",
   "mimetype": "text/x-python",
   "name": "python",
   "nbconvert_exporter": "python",
   "pygments_lexer": "ipython3",
   "version": "3.9.13"
  }
 },
 "nbformat": 4,
 "nbformat_minor": 5
}
