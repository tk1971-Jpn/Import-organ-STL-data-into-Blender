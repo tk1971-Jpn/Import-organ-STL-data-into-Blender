{
 "cells": [
  {
   "cell_type": "code",
   "execution_count": null,
   "id": "e16ac292-256c-4e9f-9602-df0764492e08",
   "metadata": {},
   "outputs": [],
   "source": [
    "import bpy\n",
    "import os\n",
    "\n",
    "# Directory path and initial offsets\n",
    "folder_path = '/Users/kimuratakashi/Desktop/manifest-1737770826064/STL'\n",
    "x_move = 0\n",
    "y_move = 0\n",
    "z_move = 0\n",
    "\n",
    "# Get a list of STL file paths\n",
    "file_paths = [\n",
    "    os.path.join(folder_path, filename)\n",
    "    for filename in os.listdir(folder_path)\n",
    "    if os.path.isfile(os.path.join(folder_path, filename)) and filename.endswith('.stl')\n",
    "]\n",
    "\n",
    "# Get the common prefix of file paths\n",
    "common_path = os.path.commonprefix(file_paths)\n",
    "\n",
    "# Import STL files one by one\n",
    "for file_path in file_paths:\n",
    "    # Extract the file name and object name\n",
    "    name = os.path.basename(file_path)\n",
    "    obj_name = os.path.splitext(name)[0]\n",
    "\n",
    "    # Import the STL file\n",
    "    bpy.ops.import_mesh.stl(filepath=file_path)\n",
    "\n",
    "    # Get the imported object\n",
    "    obj = bpy.context.selected_objects[0]\n",
    "    obj.name = obj_name\n",
    "\n",
    "    # Resize the object\n",
    "    size = 0.02\n",
    "    obj.scale = (size, size, size)\n",
    "\n",
    "    # Adjust rotation and position\n",
    "    obj.rotation_euler[0] = -1.5708  # Rotate around the X-axis\n",
    "    obj.location = (x_move, y_move, z_move)\n",
    "\n",
    "# rename object\n",
    "    obj.name = obj.name[len(common_path)-len(folder_path)-1:]"
   ]
  }
 ],
 "metadata": {
  "kernelspec": {
   "display_name": "Python 3 (ipykernel)",
   "language": "python",
   "name": "python3"
  },
  "language_info": {
   "codemirror_mode": {
    "name": "ipython",
    "version": 3
   },
   "file_extension": ".py",
   "mimetype": "text/x-python",
   "name": "python",
   "nbconvert_exporter": "python",
   "pygments_lexer": "ipython3",
   "version": "3.9.13"
  }
 },
 "nbformat": 4,
 "nbformat_minor": 5
}
